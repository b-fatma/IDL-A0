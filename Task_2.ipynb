{
  "nbformat": 4,
  "nbformat_minor": 0,
  "metadata": {
    "colab": {
      "provenance": []
    },
    "kernelspec": {
      "name": "python3",
      "display_name": "Python 3"
    },
    "language_info": {
      "name": "python"
    }
  },
  "cells": [
    {
      "cell_type": "markdown",
      "source": [
        "# Task 2: Implement a multi-class perceptron algorithm\n"
      ],
      "metadata": {
        "id": "7NJRoSobPnUx"
      }
    },
    {
      "cell_type": "markdown",
      "source": [
        "Implement (from scratch) a multi-class perceptron training algorithm (\"Perceptron learning rule\" from slide 34, second lecture) and use it for training a single layer perceptron with 10 nodes (one per digit), each node\n",
        "having 256+1 inputs (inputs and bias) and 1 output. Train your network on the train set and evaluate on both the train and the test set, in the same way as you did in the previous task. As your algorithm is\n",
        "non-deterministic (results depend on how you initialize weights), repeat your experiments a few times to get a feeling of the reliability of your accuracy estimates.\n",
        "Try to make your code efficient. In particular, try to limit the number of loops, using matrix multiplication whenever possible. For example, append to your train and test data a column of ones that will represent\n",
        "the bias. The weights of your network can be stored in a matrix W of size 257x10. Then the output of the network on all inputs is just a dot product of two matrices: T rain and W, where T rain denotes the matrix\n",
        "of all input vectors (one per row), augmented with 1's (biases). To find the output node with the strongest activation use the numpy argmax() function. An efficient implementation of your algorithm shouldn't take\n",
        "more than a few seconds to converge on the training set (yes, the training set consists of patterns that are linearly separable so the perceptron algorithm will converge).\n",
        "How does the accuracy of this single-layer multi-class perceptron compare to the distance-based methods in task 1?"
      ],
      "metadata": {
        "id": "Cchrhx8cP243"
      }
    },
    {
      "cell_type": "code",
      "execution_count": 1,
      "metadata": {
        "id": "PT1AvegNyEpo"
      },
      "outputs": [],
      "source": [
        "import numpy as np\n",
        "import pandas as pd\n",
        "import random\n",
        "from sklearn.metrics import accuracy_score"
      ]
    },
    {
      "cell_type": "code",
      "source": [
        "# load train set\n",
        "x_train = pd.read_csv(\"/content/train_in.csv\", names=range(256))\n",
        "y_train = pd.read_csv(\"/content/train_out.csv\", names=['label'])\n",
        "\n",
        "# load test set\n",
        "x_test = pd.read_csv(\"/content/test_in.csv\", names=range(256))\n",
        "y_test = pd.read_csv(\"/content/test_out.csv\", names=['label'])\n",
        "\n",
        "x_train = x_train.values\n",
        "y_train = y_train['label'].values\n",
        "x_test = x_test.values\n",
        "y_test = y_test['label'].values"
      ],
      "metadata": {
        "id": "zte3UC7pQSYJ"
      },
      "execution_count": 2,
      "outputs": []
    },
    {
      "cell_type": "code",
      "source": [
        "def train(x, y, learning_rate=0.01, max_iters=1000):\n",
        "    n_samples, n_features = x.shape\n",
        "    classes = np.unique(y)\n",
        "    n_classes = len(classes)\n",
        "\n",
        "    # add a bias column and initialize weights\n",
        "    x = np.hstack((x, np.ones((x.shape[0], 1))))\n",
        "    #np.random.seed(0)\n",
        "    #weights = np.random.rand(n_features + 1, n_classes)\n",
        "\n",
        "    weights = np.zeros((n_features + 1, n_classes))\n",
        "\n",
        "    for epoch in range(max_iters):\n",
        "        misclassified = 0\n",
        "        for idx, vector in enumerate(x):\n",
        "            scores = np.dot(vector.reshape(1, -1), weights)\n",
        "            y_hat = np.argmax(scores)\n",
        "\n",
        "            if y_hat != y[idx]:\n",
        "                for i in classes:\n",
        "                    if scores[0, i] > scores[0, y[idx]]:\n",
        "                        weights[:, i] -= learning_rate * vector\n",
        "                weights[:, y[idx]] += learning_rate * vector\n",
        "                misclassified += 1\n",
        "\n",
        "        if misclassified == 0:\n",
        "            print(f\"The algorithm converged after {epoch} iterations.\")\n",
        "            break\n",
        "\n",
        "    return weights"
      ],
      "metadata": {
        "id": "r3Wd2lc8X4Oh"
      },
      "execution_count": 3,
      "outputs": []
    },
    {
      "cell_type": "code",
      "source": [
        "def predict(X, weights):\n",
        "    n_samples = X.shape[0]\n",
        "    X = np.hstack((X, np.ones((n_samples, 1))))\n",
        "    scores = np.dot(X, weights)\n",
        "    predicted_classes = np.argmax(scores, axis=1)\n",
        "    return predicted_classes"
      ],
      "metadata": {
        "id": "EgUmkJzlX9g3"
      },
      "execution_count": 4,
      "outputs": []
    },
    {
      "cell_type": "code",
      "source": [
        "# training\n",
        "trained_weights = train(x_train, y_train, learning_rate=0.1, max_iters=100)\n",
        "\n",
        "# prediction\n",
        "y_pred_train = predict(x_train, trained_weights)\n",
        "y_pred_test = predict(x_test, trained_weights)\n",
        "\n",
        "accuracy_train = np.mean(y_pred_train == y_train) * 100\n",
        "accuracy_test = np.mean(y_pred_test == y_test) * 100\n",
        "\n",
        "print(f\"Accuracy on the train set: {accuracy_train:.2f}%\")\n",
        "print(f\"Accuracy on the test set: {accuracy_test:.2f}%\")\n"
      ],
      "metadata": {
        "colab": {
          "base_uri": "https://localhost:8080/"
        },
        "id": "M_vjd-n8YAvy",
        "outputId": "a4446952-4abe-435b-fe36-13df4917dbed"
      },
      "execution_count": 5,
      "outputs": [
        {
          "output_type": "stream",
          "name": "stdout",
          "text": [
            "The algorithm converged after 33 iterations.\n",
            "Accuracy on the train set: 100.00%\n",
            "Accuracy on the test set: 87.80%\n"
          ]
        }
      ]
    },
    {
      "cell_type": "code",
      "source": [
        "from sklearn.metrics import confusion_matrix\n",
        "cm = confusion_matrix(y_test, y_pred_test)"
      ],
      "metadata": {
        "id": "M4wbbZh4STI9"
      },
      "execution_count": 6,
      "outputs": []
    },
    {
      "cell_type": "code",
      "source": [
        "cm"
      ],
      "metadata": {
        "id": "Hj5SJy1nSqbW",
        "colab": {
          "base_uri": "https://localhost:8080/"
        },
        "outputId": "e47c3acb-28a4-4571-ea02-34433d8ef8ee"
      },
      "execution_count": 7,
      "outputs": [
        {
          "output_type": "execute_result",
          "data": {
            "text/plain": [
              "array([[215,   0,   2,   2,   3,   0,   0,   0,   1,   1],\n",
              "       [  0, 114,   0,   0,   1,   0,   3,   1,   0,   2],\n",
              "       [  3,   1,  85,   2,   3,   0,   1,   2,   4,   0],\n",
              "       [  2,   0,   2,  63,   0,   2,   0,   2,   5,   3],\n",
              "       [  5,   1,   3,   0,  67,   2,   2,   2,   1,   3],\n",
              "       [  3,   0,   0,   6,   2,  39,   1,   1,   1,   2],\n",
              "       [  1,   0,   2,   0,   2,   0,  85,   0,   0,   0],\n",
              "       [  0,   0,   2,   0,   4,   0,   0,  55,   0,   3],\n",
              "       [  3,   0,   2,   3,   3,   3,   0,   0,  74,   4],\n",
              "       [  0,   1,   1,   0,   2,   0,   0,   1,   2,  81]])"
            ]
          },
          "metadata": {},
          "execution_count": 7
        }
      ]
    },
    {
      "cell_type": "markdown",
      "source": [
        "With weights initialized to 0, it takes 33 iterations.\n",
        "\n",
        "Whereas with randomly initialized values, it takes 41 iterations (seed 43)"
      ],
      "metadata": {
        "id": "yzWsG8bMZiin"
      }
    }
  ]
}